{
 "cells": [
  {
   "cell_type": "code",
   "execution_count": 2,
   "metadata": {
    "autoscroll": false,
    "ein.tags": "worksheet-0",
    "slideshow": {
     "slide_type": "-"
    }
   },
   "outputs": [],
   "source": [
    "%load_ext rpy2.ipython"
   ]
  },
  {
   "cell_type": "markdown",
   "metadata": {
    "ein.tags": "worksheet-0",
    "slideshow": {
     "slide_type": "-"
    }
   },
   "source": [
    "# Problem 1: The Command Line\n",
    "\n",
    "SSH into your instance. \n",
    "\n",
    "You will find a file located at $HOME/not-your-folder/2018_padro_nacionalitat_per_sexe.csv \n",
    "\n",
    "Your job is to create a new folder at $HOME/this-is-the-one, and move the csv file into that new folder"
   ]
  },
  {
   "cell_type": "markdown",
   "metadata": {
    "ein.tags": "worksheet-0",
    "slideshow": {
     "slide_type": "-"
    }
   },
   "source": [
    "# Problem 2: Plotting in R"
   ]
  },
  {
   "cell_type": "code",
   "execution_count": 3,
   "metadata": {
    "autoscroll": false,
    "ein.tags": "worksheet-0",
    "slideshow": {
     "slide_type": "-"
    }
   },
   "outputs": [
    {
     "name": "stderr",
     "output_type": "stream",
     "text": [
      "/opt/conda/lib/python3.7/site-packages/rpy2/rinterface/__init__.py:146: RRuntimeWarning: ── Attaching packages ─────────────────────────────────────── tidyverse 1.2.1 ──\n",
      "\n",
      "  warnings.warn(x, RRuntimeWarning)\n",
      "/opt/conda/lib/python3.7/site-packages/rpy2/rinterface/__init__.py:146: RRuntimeWarning: ✔ ggplot2 3.2.1     ✔ purrr   0.3.2\n",
      "✔ tibble  2.1.3     ✔ dplyr   0.8.3\n",
      "✔ tidyr   0.8.3     ✔ stringr 1.4.0\n",
      "✔ readr   1.3.1     ✔ forcats 0.4.0\n",
      "\n",
      "  warnings.warn(x, RRuntimeWarning)\n",
      "/opt/conda/lib/python3.7/site-packages/rpy2/rinterface/__init__.py:146: RRuntimeWarning: ── Conflicts ────────────────────────────────────────── tidyverse_conflicts() ──\n",
      "✖ dplyr::filter() masks stats::filter()\n",
      "✖ dplyr::lag()    masks stats::lag()\n",
      "\n",
      "  warnings.warn(x, RRuntimeWarning)\n"
     ]
    }
   ],
   "source": [
    "%%R\n",
    "\n",
    "library(tidyverse)"
   ]
  },
  {
   "cell_type": "code",
   "execution_count": 4,
   "metadata": {
    "autoscroll": false,
    "ein.tags": "worksheet-0",
    "slideshow": {
     "slide_type": "-"
    }
   },
   "outputs": [
    {
     "name": "stderr",
     "output_type": "stream",
     "text": [
      "/opt/conda/lib/python3.7/site-packages/rpy2/rinterface/__init__.py:146: RRuntimeWarning: Parsed with column specification:\n",
      "cols(\n",
      "  Any = col_double(),\n",
      "  Codi_Districte = col_double(),\n",
      "  Nom_Districte = col_character(),\n",
      "  Codi_Barri = col_double(),\n",
      "  Nom_Barri = col_character(),\n",
      "  Sexe = col_character(),\n",
      "  Nacionalitat = col_character(),\n",
      "  Nombre = col_double()\n",
      ")\n",
      "\n",
      "  warnings.warn(x, RRuntimeWarning)\n"
     ]
    },
    {
     "data": {
      "text/plain": [
       "# A tibble: 6 x 8\n",
       "    Any Codi_Districte Nom_Districte Codi_Barri Nom_Barri Sexe  Nacionalitat\n",
       "  <dbl>          <dbl> <chr>              <dbl> <chr>     <chr> <chr>       \n",
       "1  2018              1 Ciutat Vella           1 el Raval  Home  Espanya     \n",
       "2  2018              1 Ciutat Vella           2 el Barri… Home  Espanya     \n",
       "3  2018              1 Ciutat Vella           3 la Barce… Home  Espanya     \n",
       "4  2018              1 Ciutat Vella           4 Sant Per… Home  Espanya     \n",
       "5  2018              2 Eixample               5 el Fort … Home  Espanya     \n",
       "6  2018              2 Eixample               6 la Sagra… Home  Espanya     \n",
       "# … with 1 more variable: Nombre <dbl>\n"
      ]
     },
     "metadata": {},
     "output_type": "display_data"
    }
   ],
   "source": [
    "%%R\n",
    "\n",
    "# Read the file '2018_padro_nacionalitat_per_sexe.csv' from the new location, using read_csv\n",
    "# put the resulting Tibble into a variable called 'barris'\n",
    "\n",
    "barris <- read_csv('./2018_padro_nacionalitat_per_sexe.csv')\n",
    "\n",
    "head(barris)"
   ]
  },
  {
   "cell_type": "code",
   "execution_count": 16,
   "metadata": {},
   "outputs": [
    {
     "data": {
      "text/plain": [
       "[1] 7446    8\n"
      ]
     },
     "metadata": {},
     "output_type": "display_data"
    }
   ],
   "source": [
    "%%R\n",
    "\n",
    "dim(barris)"
   ]
  },
  {
   "cell_type": "code",
   "execution_count": 19,
   "metadata": {},
   "outputs": [],
   "source": [
    "%R -o barris"
   ]
  },
  {
   "cell_type": "code",
   "execution_count": 6,
   "metadata": {
    "scrolled": true
   },
   "outputs": [
    {
     "data": {
      "text/plain": [
       "# A tibble: 10 x 2\n",
       "   Nacionalitat            num\n",
       "   <fct>                 <dbl>\n",
       " 1 Itàlia                 1017\n",
       " 2 França                  479\n",
       " 3 Resta països d'Europa   323\n",
       " 4 Xina                    395\n",
       " 5 Pakistan                359\n",
       " 6 Itàlia                 1017\n",
       " 7 França                  479\n",
       " 8 Resta països d'Europa   323\n",
       " 9 Xina                    395\n",
       "10 Pakistan                359\n"
      ]
     },
     "metadata": {},
     "output_type": "display_data"
    }
   ],
   "source": [
    "%%R\n",
    "\n",
    "# Let's manually convert a few columns into factors. \n",
    "filterer=barris %>% mutate(Nom_Barri = parse_factor(Nom_Barri, NULL), \n",
    "                  Sexe = parse_factor(Sexe, NULL),\n",
    "                  Nacionalitat = parse_factor(Nacionalitat, NULL)) %>%\n",
    "            filter((Nom_Barri==\"el Poblenou\") &(Nacionalitat!=\"Espanya\"))%>%\n",
    "            group_by(Nacionalitat) %>%\n",
    "            summarize(num=sum(Nombre)) %>%\n",
    "            top_n(10,num) %>%\n",
    "            ungroup() %>%\n",
    "            mutate(filtered=1)\n",
    "\n",
    "filterer\n",
    "\n",
    "#barris %>% left_join(filter,by=\"Nacionalitat\")\n",
    "a=barris %>% mutate(Nom_Barri = parse_factor(Nom_Barri, NULL), \n",
    "                  Sexe = parse_factor(Sexe, NULL),\n",
    "                  Nacionalitat = parse_factor(Nacionalitat, NULL)) %>%\n",
    "            filter((Nom_Barri==\"el Poblenou\") &(Nacionalitat!=\"Espanya\"))%>%\n",
    "            group_by(Nacionalitat) %>%\n",
    "            mutate(num=sum(Nombre)) %>%\n",
    "            ungroup %>%\n",
    "            top_n(10,num)\n",
    "\n",
    "a[,c(\"Nacionalitat\",\"num\")]"
   ]
  },
  {
   "cell_type": "code",
   "execution_count": 26,
   "metadata": {},
   "outputs": [
    {
     "data": {
      "text/plain": [
       "rpy2.robjects.vectors.DataFrame"
      ]
     },
     "execution_count": 26,
     "metadata": {},
     "output_type": "execute_result"
    }
   ],
   "source": [
    "type(barris)"
   ]
  },
  {
   "cell_type": "code",
   "execution_count": 35,
   "metadata": {},
   "outputs": [
    {
     "ename": "AttributeError",
     "evalue": "type object 'ConversionContext' has no attribute 'ri2py'",
     "output_type": "error",
     "traceback": [
      "\u001b[0;31m---------------------------------------------------------------------------\u001b[0m",
      "\u001b[0;31mAttributeError\u001b[0m                            Traceback (most recent call last)",
      "\u001b[0;32m<ipython-input-35-05780137e1df>\u001b[0m in \u001b[0;36m<module>\u001b[0;34m\u001b[0m\n\u001b[1;32m      4\u001b[0m \u001b[0;32mfrom\u001b[0m \u001b[0mrpy2\u001b[0m\u001b[0;34m.\u001b[0m\u001b[0mrobjects\u001b[0m\u001b[0;34m.\u001b[0m\u001b[0mconversion\u001b[0m \u001b[0;32mimport\u001b[0m \u001b[0mlocalconverter\u001b[0m\u001b[0;34m\u001b[0m\u001b[0;34m\u001b[0m\u001b[0m\n\u001b[1;32m      5\u001b[0m \u001b[0;34m\u001b[0m\u001b[0m\n\u001b[0;32m----> 6\u001b[0;31m \u001b[0mdf\u001b[0m\u001b[0;34m=\u001b[0m\u001b[0mlocalconverter\u001b[0m\u001b[0;34m.\u001b[0m\u001b[0mri2py\u001b[0m\u001b[0;34m(\u001b[0m\u001b[0mbarris\u001b[0m\u001b[0;34m)\u001b[0m\u001b[0;34m\u001b[0m\u001b[0;34m\u001b[0m\u001b[0m\n\u001b[0m\u001b[1;32m      7\u001b[0m \u001b[0;34m\u001b[0m\u001b[0m\n\u001b[1;32m      8\u001b[0m \u001b[0;34m\u001b[0m\u001b[0m\n",
      "\u001b[0;31mAttributeError\u001b[0m: type object 'ConversionContext' has no attribute 'ri2py'"
     ]
    }
   ],
   "source": [
    "import pandas as pd\n",
    "\n",
    "from rpy2.robjects import pandas2ri\n",
    "from rpy2.robjects.conversion import localconverter\n",
    "\n",
    "df=localconverter.ri2py(barris)\n",
    "\n",
    "\n",
    "df[\"Total\"]=df.groupby(['Nacionalitat']).sum('Nombre')"
   ]
  },
  {
   "cell_type": "code",
   "execution_count": 7,
   "metadata": {
    "autoscroll": false,
    "ein.tags": "worksheet-0",
    "slideshow": {
     "slide_type": "-"
    }
   },
   "outputs": [
    {
     "data": {
      "image/png": "[encoded data removed]"
     },
     "metadata": {},
     "output_type": "display_data"
    }
   ],
   "source": [
    "%%R\n",
    "\n",
    "# Let's manually convert a few columns into factors. \n",
    "barris %>% mutate(Nom_Barri = parse_factor(Nom_Barri, NULL), \n",
    "                  Sexe = parse_factor(Sexe, NULL),\n",
    "                  Nacionalitat = parse_factor(Nacionalitat, NULL)) %>%\n",
    "            filter((Nom_Barri==\"el Poblenou\") &(Nacionalitat!=\"Espanya\"))%>%\n",
    "\n",
    "\n",
    "            group_by(Nacionalitat) %>%\n",
    "            mutate(num=sum(Nombre)) %>%\n",
    "            ungroup %>%\n",
    "            top_n(20,num) %>%\n",
    "            group_by(Nacionalitat,Sexe)%>%\n",
    "\n",
    "            ggplot(aes(x=Nacionalitat,y=Nombre,fill=Sexe))+\n",
    "            geom_col()+\n",
    "            coord_flip()+\n",
    "            ggtitle(\"Non-Spanish population by sex\")\n",
    "\n",
    "# We want to explore the neighborhood referred to as 'el Poblenou', in the variable\n",
    "# 'Nom_Barri' (neighborhood name). We will take a look at the gender and nationality\n",
    "# of the non-Spanish population in this neighborhood. \n",
    "#\n",
    "# First, filter the data to only 'el Poblenou'\n",
    "# Second, remove the nationality 'Espanya'\n",
    "# Third, plot a horizontal bar chart of the population counted by 'Nacionalitat',\n",
    "# but only plot the most populous nationalities. Set a cutoff that looks right to you. \n",
    "#\n",
    "\n",
    "# Note: the number of each 'Sexe'/'Nacionalitat' combo is in the variable 'Nombre'\n",
    "# \n",
    "# Hint: group and count manually, and then use ggplot's geom_col and use coord_flip()\n",
    "# to make the chart horizontal\n",
    "#\n",
    "# Bonus: Display the gender ('Sexe') in different colors, via the \"fill\" property!"
   ]
  },
  {
   "cell_type": "markdown",
   "metadata": {
    "ein.tags": "worksheet-0",
    "slideshow": {
     "slide_type": "-"
    }
   },
   "source": [
    "# Problem 3: Classes in Python"
   ]
  },
  {
   "cell_type": "code",
   "execution_count": 8,
   "metadata": {
    "autoscroll": false,
    "ein.tags": "worksheet-0",
    "slideshow": {
     "slide_type": "-"
    }
   },
   "outputs": [],
   "source": [
    "# Create a class called \"RandomClassifier\". \n",
    "\n",
    "# It's constructor should have one required parameter: 'probability'\n",
    "\n",
    "# It should have one instance method, 'predict'\n",
    "\n",
    "# The predict method should take one required parameter: 'x'\n",
    "\n",
    "# The predict method should then randomly return a 1 or 0. It should return a 1\n",
    "# with the probability given in the parameter\n",
    "\n",
    "# The following cell has a test that should pass if you've done it correctly!\n",
    "\n",
    "class RandomClassifier:\n",
    "    \n",
    "    def __init__(self, probability):\n",
    "        self.probability = probability\n",
    "    \n",
    "    def predict(self,x):\n",
    "        if np.random.uniform(0,1,1) < self.probability:\n",
    "            return 1\n",
    "        else:\n",
    "            return 0"
   ]
  },
  {
   "cell_type": "code",
   "execution_count": 9,
   "metadata": {
    "autoscroll": false,
    "ein.tags": "worksheet-0",
    "slideshow": {
     "slide_type": "-"
    }
   },
   "outputs": [],
   "source": [
    "import numpy as np\n",
    "\n",
    "r = RandomClassifier(probability = .2)\n",
    "m = np.mean([r.predict(x = i) for i in np.arange(100000)])\n",
    "\n",
    "np.testing.assert_approx_equal(m, 0.2, 2)\n",
    "\n"
   ]
  },
  {
   "cell_type": "markdown",
   "metadata": {
    "ein.tags": "worksheet-0",
    "slideshow": {
     "slide_type": "-"
    }
   },
   "source": [
    "# Problem 4: Some Theory"
   ]
  },
  {
   "cell_type": "markdown",
   "metadata": {
    "ein.tags": "worksheet-0",
    "slideshow": {
     "slide_type": "-"
    }
   },
   "source": [
    "### What are pure functions and what are their strengths? (2-3 lines)"
   ]
  },
  {
   "cell_type": "markdown",
   "metadata": {
    "ein.tags": "worksheet-0",
    "slideshow": {
     "slide_type": "-"
    }
   },
   "source": []
  },
  {
   "cell_type": "code",
   "execution_count": 10,
   "metadata": {},
   "outputs": [
    {
     "data": {
      "text/latex": [
       "\\begin{align}\n",
       "\\alpha^2\n",
       "\\end{align}\n"
      ],
      "text/plain": [
       "<IPython.core.display.Latex object>"
      ]
     },
     "metadata": {},
     "output_type": "display_data"
    }
   ],
   "source": [
    "%%latex\n",
    "\\begin{align}\n",
    "\\alpha^2\n",
    "\\end{align}"
   ]
  },
  {
   "cell_type": "markdown",
   "metadata": {
    "ein.tags": "worksheet-0",
    "slideshow": {
     "slide_type": "-"
    }
   },
   "source": [
    "### What is lazy evaluation and when might you use it? (2-3 lines)"
   ]
  },
  {
   "cell_type": "markdown",
   "metadata": {
    "ein.tags": "worksheet-0",
    "slideshow": {
     "slide_type": "-"
    }
   },
   "source": []
  },
  {
   "cell_type": "code",
   "execution_count": 11,
   "metadata": {},
   "outputs": [
    {
     "data": {
      "text/latex": [
       "This is my answer.\n"
      ],
      "text/plain": [
       "<IPython.core.display.Latex object>"
      ]
     },
     "metadata": {},
     "output_type": "display_data"
    }
   ],
   "source": [
    "%%latex\n",
    "This is my answer."
   ]
  },
  {
   "cell_type": "code",
   "execution_count": 12,
   "metadata": {},
   "outputs": [
    {
     "data": {
      "text/markdown": [
       "This is my answer.\n"
      ],
      "text/plain": [
       "<IPython.core.display.Markdown object>"
      ]
     },
     "metadata": {},
     "output_type": "display_data"
    }
   ],
   "source": [
    "%%markdown\n",
    "This is my answer."
   ]
  },
  {
   "cell_type": "code",
   "execution_count": 13,
   "metadata": {},
   "outputs": [
    {
     "data": {
      "text/latex": [
       "\\begin{align}\n",
       "\\alpha^2\n",
       "\\end{align}\n"
      ],
      "text/plain": [
       "<IPython.core.display.Latex object>"
      ]
     },
     "metadata": {},
     "output_type": "display_data"
    }
   ],
   "source": [
    "%%latex\n",
    "\\begin{align}\n",
    "\\alpha^2\n",
    "\\end{align}\n"
   ]
  },
  {
   "cell_type": "code",
   "execution_count": 14,
   "metadata": {},
   "outputs": [
    {
     "name": "stdout",
     "output_type": "stream",
     "text": [
      "Hello\n"
     ]
    }
   ],
   "source": [
    "print('Hello')"
   ]
  },
  {
   "cell_type": "code",
   "execution_count": null,
   "metadata": {},
   "outputs": [],
   "source": []
  }
 ],
 "metadata": {
  "kernelspec": {
   "display_name": "Python 3",
   "language": "python",
   "name": "python3"
  },
  "language_info": {
   "codemirror_mode": {
    "name": "ipython",
    "version": 3
   },
   "file_extension": ".py",
   "mimetype": "text/x-python",
   "name": "python",
   "nbconvert_exporter": "python",
   "pygments_lexer": "ipython3",
   "version": "3.7.3"
  },
  "name": "exam.ipynb"
 },
 "nbformat": 4,
 "nbformat_minor": 2
}
